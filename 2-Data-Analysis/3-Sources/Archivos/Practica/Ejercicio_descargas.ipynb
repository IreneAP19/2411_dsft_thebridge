{
 "cells": [
  {
   "attachments": {},
   "cell_type": "markdown",
   "metadata": {},
   "source": [
    "## Ejercicio descargas"
   ]
  },
  {
   "attachments": {},
   "cell_type": "markdown",
   "metadata": {},
   "source": [
    "Python es un lenguaje de propósito general, por lo que podemos desarrollar otros programas,\n",
    "aparte de ciencia de datos, que nos permitan montar dashboards, crear APIs o automatizar\n",
    "procesos. En este caso vas a automatizar un proceso, en el que tendrás que desarrollar un\n",
    "script que ordene todos los archivos de una carpeta, dependiendo de la extensión de los\n",
    "mismos.\n",
    "\n",
    "\n",
    "El objetivo es ordenar la típica carpeta de cajón desastre donde se nos acumulan archivos de\n",
    "todos los formatos como: imágenes, words, presentaciones, excels, ejecutables, zips, etc... Y\n",
    "que no vamos a ir viendo archivo a archivo, ordenándolos.... La solución suele ser eliminarlo\n",
    "todo. Vamos a intentar no tener que llegar a eso, ordenando los ficheros automáticamente en\n",
    "carpetas y revisar las que nos interesen. La típica carpeta donde aplicaríamos este programa es\n",
    "la de “Descargas”, donde se suelen acumular muchos archivos temporales.\n",
    "\n",
    "\n",
    "Por tanto, **el programa tiene que guardar los archivos de la carpeta “Descargas” (o cualquier\n",
    "otra donde acumules mucho archivo temporal) en los siguientes directorios dentro de la\n",
    "propia carpeta “Descargas”**:\n",
    "- Imagenes\n",
    "- Documentos\n",
    "- Software\n",
    "- Otros\n",
    "\n",
    "Cada vez que ejecutes el script, automáticamente se ordenarán todos los archivos en sus\n",
    "correspondientes carpetas.\n"
   ]
  },
  {
   "cell_type": "code",
   "execution_count": 31,
   "metadata": {},
   "outputs": [],
   "source": [
    "doc_types = ('.doc', '.docx', '.txt', '.pdf', '.xls', '.ppt', '.xlsx', '.pptx')\n",
    "img_types = ('.jpg', '.jpeg', '.png', '.svg', '.gif')\n",
    "software_types = ('.exe', '.py','.ipynb')"
   ]
  },
  {
   "attachments": {},
   "cell_type": "markdown",
   "metadata": {},
   "source": [
    "### 1. Crea un un programa con el flujo principal y encapsúlalo en funciones."
   ]
  },
  {
   "cell_type": "code",
   "execution_count": 1,
   "metadata": {},
   "outputs": [],
   "source": [
    "import os\n",
    "import shutil"
   ]
  },
  {
   "cell_type": "code",
   "execution_count": 2,
   "metadata": {},
   "outputs": [
    {
     "data": {
      "text/plain": [
       "'d:\\\\Bootcamps_DS\\\\24_11_Bootcamp_DS\\\\2411_dsft_thebridge\\\\2-Data-Analysis\\\\3-Sources\\\\Archivos\\\\Practica'"
      ]
     },
     "execution_count": 2,
     "metadata": {},
     "output_type": "execute_result"
    }
   ],
   "source": [
    "os.getcwd()"
   ]
  },
  {
   "cell_type": "code",
   "execution_count": 3,
   "metadata": {},
   "outputs": [
    {
     "data": {
      "text/plain": [
       "['carpeta_prueba', 'Ejercicio_descargas.ipynb']"
      ]
     },
     "execution_count": 3,
     "metadata": {},
     "output_type": "execute_result"
    }
   ],
   "source": [
    "os.listdir()"
   ]
  },
  {
   "cell_type": "code",
   "execution_count": 4,
   "metadata": {},
   "outputs": [],
   "source": [
    "# os.chdir(os.getcwd() + \"\\\\carpeta_prueba\")\n",
    "# os.getcwd()"
   ]
  },
  {
   "cell_type": "code",
   "execution_count": 5,
   "metadata": {},
   "outputs": [
    {
     "data": {
      "text/plain": [
       "'d:\\\\Bootcamps_DS\\\\24_11_Bootcamp_DS\\\\2411_dsft_thebridge\\\\2-Data-Analysis\\\\3-Sources\\\\Archivos\\\\Practica'"
      ]
     },
     "execution_count": 5,
     "metadata": {},
     "output_type": "execute_result"
    }
   ],
   "source": [
    "ruta = os.getcwd()\n",
    "ruta"
   ]
  },
  {
   "cell_type": "code",
   "execution_count": 6,
   "metadata": {},
   "outputs": [
    {
     "data": {
      "text/plain": [
       "['carpeta_prueba', 'Ejercicio_descargas.ipynb']"
      ]
     },
     "execution_count": 6,
     "metadata": {},
     "output_type": "execute_result"
    }
   ],
   "source": [
    "os.listdir(ruta)"
   ]
  },
  {
   "cell_type": "code",
   "execution_count": 7,
   "metadata": {},
   "outputs": [
    {
     "name": "stdout",
     "output_type": "stream",
     "text": [
      "data_file.json\n",
      "ejercicio_clase.csv\n",
      "GUIA_GITHUB_v2.pdf\n",
      "Lectura_Escritura.ipynb\n",
      "main_PROF.py\n",
      "markdown_cheetsheet.jpg\n"
     ]
    }
   ],
   "source": [
    "for archivo in os.listdir(ruta + \"\\\\carpeta_prueba\"):\n",
    "    print(archivo)"
   ]
  },
  {
   "cell_type": "code",
   "execution_count": 8,
   "metadata": {},
   "outputs": [],
   "source": [
    "nombre_carpeta = \"carpeta_prueba\""
   ]
  },
  {
   "cell_type": "code",
   "execution_count": 21,
   "metadata": {},
   "outputs": [],
   "source": [
    "os.makedirs(\"./\" + nombre_carpeta + \"/Documentos\", exist_ok=True)\n",
    "os.makedirs(\"./\" + nombre_carpeta + \"/Imagenes\", exist_ok=True)\n",
    "os.makedirs(\"./\" + nombre_carpeta + \"/Softwares\", exist_ok=True)\n",
    "os.makedirs(\"./\" + nombre_carpeta + \"/Otros\", exist_ok=True)"
   ]
  },
  {
   "cell_type": "code",
   "execution_count": 24,
   "metadata": {},
   "outputs": [],
   "source": [
    "categorias = [\"Documentos\", \"Imagenes\", \"Softwares\", \"Otros\"]\n",
    "for categoria in categorias:\n",
    "    os.makedirs(\"./\" + nombre_carpeta + \"/\" + categoria, exist_ok=True)"
   ]
  },
  {
   "cell_type": "code",
   "execution_count": 25,
   "metadata": {},
   "outputs": [
    {
     "name": "stdout",
     "output_type": "stream",
     "text": [
      "data_file.json\n",
      "Documentos\n",
      "ejercicio_clase.csv\n",
      "GUIA_GITHUB_v2.pdf\n",
      "Imagenes\n",
      "Lectura_Escritura.ipynb\n",
      "main_PROF.py\n",
      "markdown_cheetsheet.jpg\n",
      "Otros\n",
      "Softwares\n"
     ]
    }
   ],
   "source": [
    "for archivo in os.listdir(ruta + \"\\\\\" + nombre_carpeta):\n",
    "    print(archivo)"
   ]
  },
  {
   "cell_type": "code",
   "execution_count": 27,
   "metadata": {},
   "outputs": [
    {
     "data": {
      "text/plain": [
       "'d:\\\\Bootcamps_DS\\\\24_11_Bootcamp_DS\\\\2411_dsft_thebridge\\\\2-Data-Analysis\\\\3-Sources\\\\Archivos\\\\Practica\\\\carpeta_prueba'"
      ]
     },
     "execution_count": 27,
     "metadata": {},
     "output_type": "execute_result"
    }
   ],
   "source": [
    "ruta_carpeta = ruta + \"\\\\\" + nombre_carpeta\n",
    "ruta_carpeta"
   ]
  },
  {
   "cell_type": "code",
   "execution_count": null,
   "metadata": {},
   "outputs": [
    {
     "name": "stdout",
     "output_type": "stream",
     "text": [
      "Archivo: data_file.json\n",
      "Mover archivo a Otros\n",
      "Carpeta: Documentos\n",
      "Archivo: ejercicio_clase.csv\n",
      "Mover archivo a Otros\n",
      "Carpeta: Imagenes\n",
      "Carpeta: Otros\n",
      "Carpeta: Softwares\n"
     ]
    }
   ],
   "source": [
    "for archivo in os.listdir(ruta_carpeta):\n",
    "    ruta_archivo = ruta_carpeta + \"/\" + archivo\n",
    "    if os.path.isdir(ruta_archivo):\n",
    "        print(\"Carpeta:\", archivo)\n",
    "    else:\n",
    "        print(\"Archivo:\", archivo)\n",
    "        if archivo.endswith(doc_types):\n",
    "            print(\"Mover archivo a Documentos\")\n",
    "            shutil.move(ruta_archivo, ruta_carpeta + \"/Documentos\")\n",
    "        elif archivo.endswith(img_types):\n",
    "            print(\"Mover archivo a Imagenes\")\n",
    "            shutil.move(ruta_archivo, ruta_carpeta + \"/Imagenes\")\n",
    "        elif archivo.endswith(software_types):\n",
    "            print(\"Mover archivo a Softwares\")\n",
    "            shutil.move(ruta_archivo, ruta_carpeta + \"/Softwares\")\n",
    "        else:\n",
    "            print(\"Mover archivo a Otros\")\n",
    "            shutil.move(ruta_archivo, ruta_carpeta + \"/Otros\")\n",
    "    "
   ]
  },
  {
   "cell_type": "code",
   "execution_count": null,
   "metadata": {},
   "outputs": [
    {
     "name": "stdout",
     "output_type": "stream",
     "text": [
      "d:\\Bootcamps_DS\\24_11_Bootcamp_DS\\2411_dsft_thebridge\\2-Data-Analysis\\3-Sources\\Archivos\\Practica\\carpeta_prueba\n"
     ]
    }
   ],
   "source": [
    "categorias = {\"Documentos\": ('.doc', '.docx', '.txt', '.pdf', '.xls', '.ppt', '.xlsx', '.pptx'),\n",
    "              \"Imagenes\": ('.jpg', '.jpeg', '.png', '.svg', '.gif'),\n",
    "              \"Softwares\": ('.exe', '.py','.ipynb'),\n",
    "              \"Otros\": ()}\n",
    "print(ruta_carpeta)"
   ]
  },
  {
   "cell_type": "code",
   "execution_count": 43,
   "metadata": {},
   "outputs": [
    {
     "name": "stdout",
     "output_type": "stream",
     "text": [
      "Documentos\n",
      "Imagenes\n",
      "Softwares\n",
      "Otros\n"
     ]
    }
   ],
   "source": [
    "for categoria in categorias:\n",
    "    print(categoria)"
   ]
  },
  {
   "cell_type": "code",
   "execution_count": 46,
   "metadata": {},
   "outputs": [],
   "source": [
    "def ordenar_carpeta(ruta_carpeta, categorias):\n",
    "    for categoria in categorias.keys():\n",
    "        os.makedirs(ruta_carpeta + \"/\" + categoria, exist_ok=True)\n",
    "    \n",
    "    for archivo in os.listdir(ruta_carpeta):\n",
    "        ruta_archivo = ruta_carpeta + \"/\" + archivo\n",
    "        if os.path.isdir(ruta_archivo):\n",
    "            print(\"Carpeta:\", archivo)\n",
    "        else:\n",
    "            print(\"Archivo:\", archivo)\n",
    "            if archivo.endswith(categorias['Documentos']):\n",
    "                print(\"Mover archivo a Documentos\")\n",
    "                shutil.move(ruta_archivo, ruta_carpeta + \"/Documentos\")\n",
    "            elif archivo.endswith(categorias['Imagenes']):\n",
    "                print(\"Mover archivo a Imagenes\")\n",
    "                shutil.move(ruta_archivo, ruta_carpeta + \"/Imagenes\")\n",
    "            elif archivo.endswith(categorias['Softwares']):\n",
    "                print(\"Mover archivo a Softwares\")\n",
    "                shutil.move(ruta_archivo, ruta_carpeta + \"/Softwares\")\n",
    "            else:\n",
    "                print(\"Mover archivo a Otros\")\n",
    "                shutil.move(ruta_archivo, ruta_carpeta + \"/Otros\")\n",
    "    "
   ]
  },
  {
   "cell_type": "code",
   "execution_count": 47,
   "metadata": {},
   "outputs": [
    {
     "name": "stdout",
     "output_type": "stream",
     "text": [
      "Archivo: data_file.json\n",
      "Mover archivo a Otros\n",
      "Carpeta: Documentos\n",
      "Archivo: ejercicio_clase.csv\n",
      "Mover archivo a Otros\n",
      "Archivo: GUIA_GITHUB_v2.pdf\n",
      "Mover archivo a Documentos\n",
      "Carpeta: Imagenes\n",
      "Archivo: Lectura_Escritura.ipynb\n",
      "Mover archivo a Softwares\n",
      "Archivo: main_PROF.py\n",
      "Mover archivo a Softwares\n",
      "Archivo: markdown_cheetsheet.jpg\n",
      "Mover archivo a Imagenes\n",
      "Carpeta: Otros\n",
      "Carpeta: Softwares\n"
     ]
    }
   ],
   "source": [
    "ordenar_carpeta(ruta_carpeta, categorias)"
   ]
  },
  {
   "attachments": {},
   "cell_type": "markdown",
   "metadata": {},
   "source": [
    "### 2. Crea una clase Fichero en clase.py y un main.py con el programa principal partiendo de esa clase."
   ]
  },
  {
   "cell_type": "code",
   "execution_count": null,
   "metadata": {},
   "outputs": [],
   "source": [
    "class Fichero:\n",
    "\n",
    "    def __init__(self, categoria, extensiones, ruta):\n",
    "        self.categoria = categoria\n",
    "        self.extensiones = extensiones\n",
    "        self.ruta = ruta\n",
    "    \n",
    "    def crear_carpeta(self):\n",
    "        os.makedirs(self.ruta + \"/\" + self.categoria, exist_ok=True)\n",
    "\n",
    "    def mover(self):\n",
    "        for archivo in os.listdir(self.ruta):\n",
    "            ruta_archivo = self.ruta + \"/\" + archivo\n",
    "            if os.path.isdir(ruta_archivo):\n",
    "                pass\n",
    "            elif archivo.endswith(self.extensiones) or self.categoria == \"Otros\":\n",
    "                shutil.move(ruta_archivo, self.ruta + \"/\" + self.categoria)\n",
    "        \n"
   ]
  },
  {
   "cell_type": "code",
   "execution_count": null,
   "metadata": {},
   "outputs": [],
   "source": []
  },
  {
   "cell_type": "code",
   "execution_count": 58,
   "metadata": {},
   "outputs": [
    {
     "name": "stdout",
     "output_type": "stream",
     "text": [
      "d:\\Bootcamps_DS\\24_11_Bootcamp_DS\\2411_dsft_thebridge\\2-Data-Analysis\\3-Sources\\Archivos\\Practica\\carpeta_prueba\n",
      "{'Documentos': ('.doc', '.docx', '.txt', '.pdf', '.xls', '.ppt', '.xlsx', '.pptx'), 'Imagenes': ('.jpg', '.jpeg', '.png', '.svg', '.gif'), 'Softwares': ('.exe', '.py', '.ipynb'), 'Otros': ()}\n"
     ]
    }
   ],
   "source": [
    "print(ruta_carpeta)\n",
    "print(categorias)"
   ]
  },
  {
   "cell_type": "code",
   "execution_count": 59,
   "metadata": {},
   "outputs": [],
   "source": [
    "for categoria in categorias:\n",
    "    fichero = Fichero(categoria, categorias[categoria], ruta_carpeta)\n",
    "    fichero.crear_carpeta()\n",
    "    fichero.mover()"
   ]
  },
  {
   "cell_type": "code",
   "execution_count": null,
   "metadata": {},
   "outputs": [],
   "source": []
  }
 ],
 "metadata": {
  "kernelspec": {
   "display_name": "Python 3",
   "language": "python",
   "name": "python3"
  },
  "language_info": {
   "codemirror_mode": {
    "name": "ipython",
    "version": 3
   },
   "file_extension": ".py",
   "mimetype": "text/x-python",
   "name": "python",
   "nbconvert_exporter": "python",
   "pygments_lexer": "ipython3",
   "version": "3.11.3"
  },
  "orig_nbformat": 4
 },
 "nbformat": 4,
 "nbformat_minor": 2
}
