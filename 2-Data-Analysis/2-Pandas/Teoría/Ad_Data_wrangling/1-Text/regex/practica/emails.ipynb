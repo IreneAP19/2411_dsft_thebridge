{
 "cells": [
  {
   "attachments": {},
   "cell_type": "markdown",
   "metadata": {},
   "source": [
    "# Extrae los dominios de los correos con una expresión regular"
   ]
  },
  {
   "cell_type": "code",
   "execution_count": 2,
   "metadata": {},
   "outputs": [],
   "source": [
    "import re\n",
    "\n",
    "emails = '''\n",
    "Hola chic@s\n",
    "miguelnievas@thebridgeschool.tech\n",
    "miguel.nievas@uc3m.es\n",
    "miguel-12-1993@mi-correo.net\n",
    "miguelniev@s@thebridgeschool.es\n",
    "'''"
   ]
  },
  {
   "attachments": {},
   "cell_type": "markdown",
   "metadata": {},
   "source": [
    "Es decir.. \n",
    "* @thebridgeschool.tech\n",
    "* @uc3m.es\n",
    "* @mi-correo.net\n",
    "* @thebridgeschool.es"
   ]
  },
  {
   "cell_type": "code",
   "execution_count": 6,
   "metadata": {},
   "outputs": [
    {
     "name": "stdout",
     "output_type": "stream",
     "text": [
      "<re.Match object; span=(25, 46), match='@thebridgeschool.tech'>\n",
      "<re.Match object; span=(60, 68), match='@uc3m.es'>\n",
      "<re.Match object; span=(110, 129), match='@thebridgeschool.es'>\n"
     ]
    }
   ],
   "source": [
    "pattern4 = re.compile(r'@\\w+\\.\\w+')\n",
    "\n",
    "matches = pattern4.finditer(emails)\n",
    "\n",
    "for match in matches:\n",
    "    print(match)"
   ]
  },
  {
   "cell_type": "code",
   "execution_count": 7,
   "metadata": {},
   "outputs": [
    {
     "name": "stdout",
     "output_type": "stream",
     "text": [
      "<re.Match object; span=(25, 46), match='@thebridgeschool.tech'>\n",
      "<re.Match object; span=(60, 68), match='@uc3m.es'>\n",
      "<re.Match object; span=(83, 97), match='@mi-correo.net'>\n",
      "<re.Match object; span=(110, 129), match='@thebridgeschool.es'>\n"
     ]
    }
   ],
   "source": [
    "pattern4 = re.compile(r'@[\\w-]+\\.\\w+')\n",
    "\n",
    "matches = pattern4.finditer(emails)\n",
    "\n",
    "for match in matches:\n",
    "    print(match)"
   ]
  },
  {
   "cell_type": "code",
   "execution_count": 11,
   "metadata": {},
   "outputs": [
    {
     "name": "stdout",
     "output_type": "stream",
     "text": [
      "<re.Match object; span=(25, 46), match='@thebridgeschool.tech'>\n",
      "<re.Match object; span=(60, 68), match='@uc3m.es'>\n",
      "<re.Match object; span=(83, 97), match='@mi-correo.net'>\n",
      "<re.Match object; span=(110, 129), match='@thebridgeschool.es'>\n"
     ]
    }
   ],
   "source": [
    "pattern = re.compile(r'\\@\\w+[-\\w]*\\.\\w+')\n",
    "matches = pattern.finditer(emails)\n",
    "for match in matches:\n",
    "    print(match)"
   ]
  },
  {
   "cell_type": "code",
   "execution_count": 8,
   "metadata": {},
   "outputs": [
    {
     "name": "stdout",
     "output_type": "stream",
     "text": [
      "<re.Match object; span=(25, 46), match='@thebridgeschool.tech'>\n",
      "<re.Match object; span=(60, 68), match='@uc3m.es'>\n",
      "<re.Match object; span=(83, 97), match='@mi-correo.net'>\n",
      "<re.Match object; span=(108, 129), match='@s@thebridgeschool.es'>\n"
     ]
    }
   ],
   "source": [
    "pattern4 = re.compile(r'@..+')\n",
    "\n",
    "matches = pattern4.finditer(emails)\n",
    "\n",
    "for match in matches:\n",
    "    print(match)"
   ]
  },
  {
   "cell_type": "code",
   "execution_count": 14,
   "metadata": {},
   "outputs": [
    {
     "name": "stdout",
     "output_type": "stream",
     "text": [
      "@thebridgeschool.tech\n",
      "@uc3m.es\n",
      "@mi-correo.net\n",
      "@thebridgeschool.es\n"
     ]
    }
   ],
   "source": [
    "pattern4 = re.compile(r'\\@\\w+\\-?\\w+\\.\\w+')\n",
    "\n",
    "matches = pattern4.finditer(emails)\n",
    "\n",
    "for match in matches:\n",
    "    print(match.group())"
   ]
  }
 ],
 "metadata": {
  "kernelspec": {
   "display_name": "Python 3",
   "language": "python",
   "name": "python3"
  },
  "language_info": {
   "codemirror_mode": {
    "name": "ipython",
    "version": 3
   },
   "file_extension": ".py",
   "mimetype": "text/x-python",
   "name": "python",
   "nbconvert_exporter": "python",
   "pygments_lexer": "ipython3",
   "version": "3.11.3"
  },
  "orig_nbformat": 4
 },
 "nbformat": 4,
 "nbformat_minor": 2
}
